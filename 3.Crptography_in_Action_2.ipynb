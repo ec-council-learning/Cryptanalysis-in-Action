{
 "cells": [
  {
   "cell_type": "markdown",
   "metadata": {},
   "source": [
    "## Asymmetric Encryption\n",
    "Recap: Symmetric KE = KD But Symmetric KE ≠ KD<br>\n",
    "You can think of symmetric encryption as using the same number in an equation. If you multiply a number by X, you get an answer (which you can think of as the ciphertext). To get the number back, you use the inverse operation, division, with the same number X. So 15 times 3 equals 45. To get back to 15, you just divide by 3.<br><br>\n",
    "\n",
    "With asymmetric encryption, it isn’t so conceptually clean, to begin with. You apply one number to encrypt the input, and you apply another number to decrypt. The inverse-ness (if that is a word) is built into the keys themselves.<br>\n",
    "\n",
    "Every user has a pair both public and private key pairs<br>\n",
    "Public key doesn’t reveal anything about private<br>\n",
    "Both keys are computationally bound adversaries (having the public key computationally finding the private key is infeasible)<br>\n",
    "\n"
   ]
  },
  {
   "cell_type": "markdown",
   "metadata": {},
   "source": [
    "### Asymmetric Confidentiality, Authentication\n",
    "Asymmetric confidentiality is provided by the private and public key pairs. When a message is encrypted with Alice's public key only Alice's private key can decrypt the ciphertext<br>\n",
    "<img src=\"AC.jpg\"><br>\n",
    "Asymmetric autehntication is provided by the private and public key pairs too. When Alice encrypts a message with her private key. Then anyone having the ciphertext decrypt it with Alice's public key. That shows that the message is authentic and only Alice owns the private key. Therefore noone other than Alice could have created the message.<br>\n",
    "<img src=\"AA.jpg\"><br>\n",
    "\n"
   ]
  },
  {
   "cell_type": "markdown",
   "metadata": {},
   "source": [
    "### Confidentiality and Authenticity\n",
    "Using private and public keys in combination to provide confidentiality and authentication. <img src=\"ACA.jpg\">"
   ]
  },
  {
   "cell_type": "markdown",
   "metadata": {},
   "source": [
    "### Digital Signatures\n",
    "Digital signatures are used for providing non-repudiation\n",
    "<br>\n",
    "<img src=\"DS.jpg\">\n"
   ]
  },
  {
   "cell_type": "markdown",
   "metadata": {},
   "source": [
    "## Confidentiality, Integrity, Authenticity, Non-Repudiation\n",
    "By combining digital signatures and what asymmetric confidentiality, authentication provide; we have a solid encryption scheme.<br>\n",
    "\n",
    "<img src=\"ACIAN.jpg\"><br>\n",
    "Strength of security is typically proportional to key size\n",
    "<ul>\n",
    "<li>2^n for n bits</li>\n",
    "<li>Typically 1024 to 15360 bits (today:  years to forever)</li>\n",
    "</ul>\n",
    "No shared secrets\n",
    "<ul>\n",
    "<li>Public keys do not need to be kept confidential</li>\n",
    "<li>Can be exchanged in the clear</li>\n",
    "</ul>\n",
    "Block mode only (no stream encryption)<br>\n",
    "Keys are dependent on the scheme<br>\n",
    "<ul>\n",
    "<li>Not just random bytes</li>\n",
    "<li>Symmetric and asymmetric key lengths are not directly comparable</li>\n",
    "<li>Generally:  the bigger the key, the more secure (and slower) the encryption</li>\n",
    "</ul>\n"
   ]
  },
  {
   "cell_type": "markdown",
   "metadata": {},
   "source": [
    "### Diffie-Hellman Key Exchange\n",
    "<img src=\"DH.jpg\">\n",
    "<br>\n",
    "For code example visit <a href=\"https://www.geeksforgeeks.org/implementation-diffie-hellman-algorithm/\">here</a>"
   ]
  },
  {
   "cell_type": "code",
   "execution_count": null,
   "metadata": {},
   "outputs": [],
   "source": [
    "# Check the numbers for DH.\n",
    "def prime_chck(p):\n",
    "    if p < 1:\n",
    "        return -1\n",
    "    elif p>1:\n",
    "        if p == 2:\n",
    "            return 1\n",
    "        for i in range(2,p):\n",
    "            if p % i == 0:\n",
    "                return -1\n",
    "            return 1"
   ]
  },
  {
   "cell_type": "code",
   "execution_count": null,
   "metadata": {},
   "outputs": [],
   "source": [
    "def primitive_chck(g,p,L):\n",
    "    for i in range(1,p):\n",
    "        L.append(pow(g,i) % p)\n",
    "    for i in range(1,p):\n",
    "        if L.count(1) > 1:\n",
    "            L.clear()\n",
    "            return -1\n",
    "        return 1"
   ]
  },
  {
   "cell_type": "code",
   "execution_count": null,
   "metadata": {},
   "outputs": [],
   "source": [
    "l = []\n",
    "while 1:\n",
    "    P = int(input(\"Enter P: \"))\n",
    "    if prime_chck(P) == -1:\n",
    "        print(\"Number is not prime. Enter again!\")\n",
    "        continue\n",
    "    break\n",
    "\n",
    "while 1:\n",
    "    G = int(input(\"Enter the P (primitive root of (P): \"))\n",
    "    if primitive_chck(G, P, l) == -1:\n",
    "        print(\"Number is not a primitive root of (P). Try Again!\")\n",
    "        continue\n",
    "    break"
   ]
  },
  {
   "cell_type": "code",
   "execution_count": null,
   "metadata": {},
   "outputs": [],
   "source": [
    "x1, x2 = int(input(\"Enter The Private Key Of User 1 : \")), int(\n",
    "    input(\"Enter The Private Key Of User 2 : \"))\n",
    "while 1:\n",
    "    if x1 >= P or x2 >= P:\n",
    "        print(f\"Private Key Of Both The Users Should Be Less Than {P}!\")\n",
    "        continue\n",
    "    break\n",
    " \n",
    "# Calculate Public Keys\n",
    "y1, y2 = pow(G, x1) % P, pow(G, x2) % P\n",
    " \n",
    "# Generate Secret Keys\n",
    "k1, k2 = pow(y2, x1) % P, pow(y1, x2) % P\n",
    " \n",
    "print(f\"\\nSecret Key For User 1 Is {k1}\\nSecret Key For User 2 Is {k2}\\n\")\n",
    " \n",
    "if k1 == k2:\n",
    "    print(\"Keys Have Been Exchanged Successfully\")\n",
    "else:\n",
    "    print(\"Keys Have Not Been Exchanged Successfully\")"
   ]
  },
  {
   "cell_type": "markdown",
   "metadata": {},
   "source": [
    "### RSA Encryption"
   ]
  },
  {
   "cell_type": "code",
   "execution_count": null,
   "metadata": {},
   "outputs": [],
   "source": [
    "%pip install cryptography"
   ]
  },
  {
   "cell_type": "code",
   "execution_count": null,
   "metadata": {},
   "outputs": [],
   "source": [
    "from cryptography.hazmat.primitives.asymmetric import rsa\n",
    "from cryptography.hazmat.primitives import serialization\n",
    "from cryptography.hazmat.primitives import hashes\n",
    "from cryptography.hazmat.primitives.asymmetric import padding\n",
    "\n",
    "# Generate RSA keys\n",
    "private_key = rsa.generate_private_key(\n",
    "    public_exponent=65537,\n",
    "    key_size=2048,\n",
    ")\n",
    "\n",
    "# Serialize private key to PEM format and save it to a file\n",
    "with open('private_key.pem', 'wb') as private_key_file:\n",
    "    private_key_pem = private_key.private_bytes(\n",
    "        encoding=serialization.Encoding.PEM,\n",
    "        format=serialization.PrivateFormat.PKCS8,\n",
    "        encryption_algorithm=serialization.NoEncryption()\n",
    "    )\n",
    "    private_key_file.write(private_key_pem)\n",
    "\n",
    "# Get the corresponding public key\n",
    "public_key = private_key.public_key()\n",
    "\n",
    "# Serialize public key to PEM format and save it to a file\n",
    "with open('public_key.pem', 'wb') as public_key_file:\n",
    "    public_key_pem = public_key.public_bytes(\n",
    "        encoding=serialization.Encoding.PEM,\n",
    "        format=serialization.PublicFormat.SubjectPublicKeyInfo\n",
    "    )\n",
    "    public_key_file.write(public_key_pem)\n",
    "\n",
    "# Message to be encrypted\n",
    "message = b'Cryptanalysis in Action, EC-Council'\n",
    "\n",
    "# Encrypt the message with the public key\n",
    "ciphertext = public_key.encrypt(message, padding.OAEP(\n",
    "        mgf=padding.MGF1(algorithm=hashes.SHA256()),\n",
    "        algorithm=hashes.SHA256(),\n",
    "        label=None\n",
    "    )\n",
    ")\n",
    "\n",
    "# Print the ciphertext\n",
    "print(\"Encrypted message:\", ciphertext)\n",
    "\n",
    "# Decrypt the ciphertext with the private key\n",
    "decrypted_message = private_key.decrypt(\n",
    "    ciphertext,\n",
    "    padding.OAEP(\n",
    "        mgf=padding.MGF1(algorithm=hashes.SHA256()),\n",
    "        algorithm=hashes.SHA256(),\n",
    "        label=None\n",
    "    )\n",
    ")\n",
    "\n",
    "# Print the decrypted message\n",
    "print(\"Decrypted message:\", decrypted_message.decode('utf-8'))\n"
   ]
  },
  {
   "cell_type": "markdown",
   "metadata": {},
   "source": [
    "#### PKI, Hybrid Cryptography\n",
    "PKI is used for sharing public keys in a certificate via centrally trusted authority called CA.<br>\n",
    "After getting the certification we can use asymmetric encryption for securely sharing the symmetric key for the communications. This the fundamental details about the hybrid cryptography."
   ]
  }
 ],
 "metadata": {
  "kernelspec": {
   "display_name": "base",
   "language": "python",
   "name": "python3"
  },
  "language_info": {
   "codemirror_mode": {
    "name": "ipython",
    "version": 3
   },
   "file_extension": ".py",
   "mimetype": "text/x-python",
   "name": "python",
   "nbconvert_exporter": "python",
   "pygments_lexer": "ipython3",
   "version": "3.11.4"
  },
  "orig_nbformat": 4
 },
 "nbformat": 4,
 "nbformat_minor": 2
}
