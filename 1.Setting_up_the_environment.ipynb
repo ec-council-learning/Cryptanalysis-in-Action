{
 "cells": [
  {
   "cell_type": "markdown",
   "metadata": {},
   "source": [
    "#### SETTING UP THE ENVIRONMENT"
   ]
  },
  {
   "cell_type": "markdown",
   "metadata": {},
   "source": [
    "- Download and install the Anaconda <a href=\"https://www.anaconda.com/download\">here</a>\n",
    "    - Anaconda is a pre-set up environment for Jupyter notebooks and data sience.\n",
    "    - If you want you can set up Jupter notebook environment after installing the Visual Studio Code.\n",
    "- Download and install the Visual Studio Code <a href=\"https://code.visualstudio.com/download\">here</a>\n",
    "    - VS Code is our development environment. You can follow the notbooks from GitHub from your browser.\n",
    "- Download the repo, fork, branch, contribute. Have fun. This repo is just a simple start for you and supporting material for the course. "
   ]
  }
 ],
 "metadata": {
  "language_info": {
   "name": "python"
  },
  "orig_nbformat": 4
 },
 "nbformat": 4,
 "nbformat_minor": 2
}
