{
 "cells": [
  {
   "cell_type": "markdown",
   "metadata": {},
   "source": [
    "# Fundamentals of Cryptography"
   ]
  },
  {
   "cell_type": "markdown",
   "metadata": {},
   "source": [
    "* Scientific process of creating hidden data.\n",
    "* It has been in use for thousands of years.\n",
    "We are going to look into the pricipals of data hiding in this Jupyter Notebook. "
   ]
  },
  {
   "cell_type": "markdown",
   "metadata": {},
   "source": [
    "## Terminology\n",
    "\n",
    "<strong>Encryption:</strong> It is the process of a cryptographic method/technique.<br>\n",
    "<strong>Decryption:</strong> The process of returning the encrypted data to its original form.<br>\n",
    "<strong>Plaintext:</strong> Message we want to sent via encryption system. Input to a cipher.<br>\n",
    "<strong>Ciphertext:</strong> Encrypted message. Output of a cipher.<br>\n",
    "<strong>Cipher:</strong> Encryption algorithm.<br>\n",
    "<strong>Eavesdropping:</strong> The attacke listens the communication channel without letting others to notice that activity.<br>\n",
    "<strong>Manipulation:</strong> The attacker can collect the messages and change the content of them.<br>\n",
    "<strong>Interception:</strong> The attacker can cut the communication and redirects the messages to themselves.<br>\n"
   ]
  },
  {
   "cell_type": "markdown",
   "metadata": {},
   "source": [
    "### Key Size\n",
    "\n",
    "Key size id the number of tries in a brute force attempt. Having an enormous key size is vital for encryption systems.\n",
    "Let's look at the key size in RSA below."
   ]
  },
  {
   "cell_type": "code",
   "execution_count": 2,
   "metadata": {},
   "outputs": [
    {
     "name": "stdout",
     "output_type": "stream",
     "text": [
      "Requirement already satisfied: rsa in c:\\users\\emrec\\anaconda3\\lib\\site-packages (4.9)\n",
      "Requirement already satisfied: pyasn1>=0.1.3 in c:\\users\\emrec\\anaconda3\\lib\\site-packages (from rsa) (0.4.8)\n",
      "Note: you may need to restart the kernel to use updated packages.\n"
     ]
    }
   ],
   "source": [
    "# install the rsa module for testing\n",
    "%pip install rsa"
   ]
  },
  {
   "cell_type": "code",
   "execution_count": 3,
   "metadata": {},
   "outputs": [
    {
     "name": "stdout",
     "output_type": "stream",
     "text": [
      "PublicKey(10380302298066574850222963496958625997016561472752453894555139160135924713868408477895873709280385879592882071181556904926319153855945316929233999248287567, 65537)\n",
      "PrivateKey(10380302298066574850222963496958625997016561472752453894555139160135924713868408477895873709280385879592882071181556904926319153855945316929233999248287567, 65537, 2976118531221614377156255002637480850266890307353382191413874068372888982312301140450313605890341855599373849411621101771975520434533091306428213007637073, 7439388793600493148092536607439823443583471740300853843172020997620685520588093931, 1395316548987991145999989762835476748083157717138528087006824913152928557)\n",
      "512\n",
      "512\n"
     ]
    }
   ],
   "source": [
    "# import\n",
    "import rsa\n",
    "# generate keys\n",
    "pub_key, pri_key = rsa.newkeys(512)\n",
    "\n",
    "print(pub_key)\n",
    "print(pri_key)\n",
    "print(pub_key.n.bit_length())\n",
    "print(pri_key.n.bit_length())"
   ]
  },
  {
   "cell_type": "markdown",
   "metadata": {},
   "source": [
    "### Assume\n",
    "\n",
    "key length is 512 <br>\n",
    "CPU 3.0 GHz, 3x10^9 bit can be processed in a second. Consider Fetch-Decode are negligible, all of the CPU power is used for brute force (execute)<br>\n",
    "How long does it take to brute force entire key space?<br>"
   ]
  },
  {
   "cell_type": "code",
   "execution_count": 4,
   "metadata": {},
   "outputs": [
    {
     "name": "stdout",
     "output_type": "stream",
     "text": [
      "breaking a key size is 512 takes \n",
      "141719600138916344900872412384402023654901920536190458691815472391273669044309145332565039088073469804957835716567954755590158401537048576\n",
      "years.\n"
     ]
    }
   ],
   "source": [
    "import math\n",
    "import numpy as np\n",
    "from decimal import Decimal\n",
    "\n",
    "keySize = 512\n",
    "cpuComputation = 3.0e9\n",
    "keySpace = pow(2,keySize)\n",
    "\n",
    "d = cpuComputation*60*60*24*365\n",
    "\n",
    "years = Decimal(keySpace/d)\n",
    "print(\"breaking a key size is \" + str(keySize) + \" takes \\n\" + str(years) + \"\\n\" + \"years.\")"
   ]
  },
  {
   "cell_type": "markdown",
   "metadata": {},
   "source": [
    "### Entropy And Randomness\n",
    "The aim of a cipher is to reach maximum entropy.<br>\n",
    "After the application of the encryption the result should seem as random as possible."
   ]
  },
  {
   "cell_type": "markdown",
   "metadata": {},
   "source": [
    "#### Shanon Entropy Calculation Example\n",
    "\n",
    "Assume that the generated key is stored in an array. Entropy calculation can be done using S ( X ) = − ∑ i = 1 N p ( x i ) log 2 ⁡ ( p ( x i ) ) formula.<br>"
   ]
  },
  {
   "cell_type": "code",
   "execution_count": 5,
   "metadata": {},
   "outputs": [
    {
     "name": "stdout",
     "output_type": "stream",
     "text": [
      "Not random 0.8112781244591328\n",
      "Random     1.0\n"
     ]
    }
   ],
   "source": [
    "def ShannonEntropy(array):\n",
    "    _, counts = np.unique(array, return_counts=True)\n",
    "    probabilities = counts / len(array)\n",
    "    shannonEnt = -np.sum(probabilities * np.log2(probabilities))\n",
    "    return str(shannonEnt)\n",
    "\n",
    "\n",
    "array1 = np.array([1,0,0,0,0,0,1,0]) # an example array\n",
    "array2 = np.array([1,0,1,0,1,0,1,0]) # an example array\n",
    "print(\"Not random \" + ShannonEntropy(array1))\n",
    "print(\"Random     \" + ShannonEntropy(array2))"
   ]
  }
 ],
 "metadata": {
  "kernelspec": {
   "display_name": "base",
   "language": "python",
   "name": "python3"
  },
  "language_info": {
   "codemirror_mode": {
    "name": "ipython",
    "version": 3
   },
   "file_extension": ".py",
   "mimetype": "text/x-python",
   "name": "python",
   "nbconvert_exporter": "python",
   "pygments_lexer": "ipython3",
   "version": "3.11.4"
  },
  "orig_nbformat": 4
 },
 "nbformat": 4,
 "nbformat_minor": 2
}
