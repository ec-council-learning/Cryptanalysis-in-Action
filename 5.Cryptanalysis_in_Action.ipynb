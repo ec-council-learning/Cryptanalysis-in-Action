{
 "cells": [
  {
   "cell_type": "markdown",
   "metadata": {},
   "source": [
    "## Attacking to Substitution Ciphers"
   ]
  },
  {
   "cell_type": "markdown",
   "metadata": {},
   "source": [
    "### Cracking the Caesar Cipher\n",
    "In Caesar’s cipher, the key is 3, so anyone who knows that Caesar’s cipher is being used can decrypt the message.<br>\n",
    "\n",
    "Trying all possible keys is an exhaustive search or brute force attack. If there are N possible keys, then Alice will, on average, need to try about half of these, that is, N/2 of the keys before she can expect to find the correct key. "
   ]
  },
  {
   "cell_type": "code",
   "execution_count": 29,
   "metadata": {},
   "outputs": [
    {
     "name": "stdout",
     "output_type": "stream",
     "text": [
      "Encryption Example -->\n",
      "Plaintext:  encrypted += chr((ord(letter) + shift) )\n",
      "Key input: 3\n",
      "(\u0015\u000e\u001d\u001d\u000e\u001b) + \u001c\u0011\u0012\u000f\u001d) ) \u000e\u0017\f\u001b\u0002\u0019\u001d\u000e\n"
     ]
    }
   ],
   "source": [
    "# caesar_cipher_encryptor() method is the implementation.\n",
    "def caesar_cipher_encryptor(shift,text):\n",
    "    encrypted = \"\"\n",
    "    for letter in text:\n",
    "        if letter.isalpha():\n",
    "            shift = shift%26\n",
    "            encrypted += chr((ord(letter) + shift) )\n",
    "        else:\n",
    "            encrypted += letter\n",
    "    return encrypted\n",
    "# Get the user input for key and paintext\n",
    "print(\"Encryption Example -->\")\n",
    "plaintext = input(\"Please input the plaintext: \")\n",
    "print(\"Plaintext: \" + plaintext)\n",
    "try:\n",
    "    key = int(input(\"Please input the key: \"))\n",
    "except:\n",
    "    print(\"Cannot input character as the shift for Caesar Cipher!\")\n",
    "print(\"Key input: \" + str(key))\n",
    "\n",
    "ciphertext = caesar_cipher_encryptor(key,plaintext)\n",
    "print(\"Encryption result: \" + ciphertext)"
   ]
  },
  {
   "cell_type": "code",
   "execution_count": 34,
   "metadata": {},
   "outputs": [
    {
     "name": "stdout",
     "output_type": "stream",
     "text": [
      "Key #0: DEFGHIJKLMNOPQRSTUVWXYZabcdefghijklmnopqrstuvwxyz123\n",
      "Key #1: CDEFGHIJKLMNOPQRSTUVWXYZabcdefghijklmnopqrstuvwxyz12\n",
      "Key #2: BCDEFGHIJKLMNOPQRSTUVWXYZabcdefghijklmnopqrstuvwxyz1\n",
      "Key #3: ABCDEFGHIJKLMNOPQRSTUVWXYZabcdefghijklmnopqrstuvwxyz\n",
      "Key #4: .ABCDEFGHIJKLMNOPQRSTUVWXYZabcdefghijklmnopqrstuvwxy\n",
      "Key #5: ?.ABCDEFGHIJKLMNOPQRSTUVWXYZabcdefghijklmnopqrstuvwx\n",
      "Key #6: !?.ABCDEFGHIJKLMNOPQRSTUVWXYZabcdefghijklmnopqrstuvw\n",
      "Key #7:  !?.ABCDEFGHIJKLMNOPQRSTUVWXYZabcdefghijklmnopqrstuv\n",
      "Key #8: 0 !?.ABCDEFGHIJKLMNOPQRSTUVWXYZabcdefghijklmnopqrstu\n",
      "Key #9: 90 !?.ABCDEFGHIJKLMNOPQRSTUVWXYZabcdefghijklmnopqrst\n",
      "Key #10: 890 !?.ABCDEFGHIJKLMNOPQRSTUVWXYZabcdefghijklmnopqrs\n",
      "Key #11: 7890 !?.ABCDEFGHIJKLMNOPQRSTUVWXYZabcdefghijklmnopqr\n",
      "Key #12: 67890 !?.ABCDEFGHIJKLMNOPQRSTUVWXYZabcdefghijklmnopq\n",
      "Key #13: 567890 !?.ABCDEFGHIJKLMNOPQRSTUVWXYZabcdefghijklmnop\n",
      "Key #14: 4567890 !?.ABCDEFGHIJKLMNOPQRSTUVWXYZabcdefghijklmno\n",
      "Key #15: 34567890 !?.ABCDEFGHIJKLMNOPQRSTUVWXYZabcdefghijklmn\n",
      "Key #16: 234567890 !?.ABCDEFGHIJKLMNOPQRSTUVWXYZabcdefghijklm\n",
      "Key #17: 1234567890 !?.ABCDEFGHIJKLMNOPQRSTUVWXYZabcdefghijkl\n",
      "Key #18: z1234567890 !?.ABCDEFGHIJKLMNOPQRSTUVWXYZabcdefghijk\n",
      "Key #19: yz1234567890 !?.ABCDEFGHIJKLMNOPQRSTUVWXYZabcdefghij\n",
      "Key #20: xyz1234567890 !?.ABCDEFGHIJKLMNOPQRSTUVWXYZabcdefghi\n",
      "Key #21: wxyz1234567890 !?.ABCDEFGHIJKLMNOPQRSTUVWXYZabcdefgh\n",
      "Key #22: vwxyz1234567890 !?.ABCDEFGHIJKLMNOPQRSTUVWXYZabcdefg\n",
      "Key #23: uvwxyz1234567890 !?.ABCDEFGHIJKLMNOPQRSTUVWXYZabcdef\n",
      "Key #24: tuvwxyz1234567890 !?.ABCDEFGHIJKLMNOPQRSTUVWXYZabcde\n",
      "Key #25: stuvwxyz1234567890 !?.ABCDEFGHIJKLMNOPQRSTUVWXYZabcd\n",
      "Key #26: rstuvwxyz1234567890 !?.ABCDEFGHIJKLMNOPQRSTUVWXYZabc\n",
      "Key #27: qrstuvwxyz1234567890 !?.ABCDEFGHIJKLMNOPQRSTUVWXYZab\n",
      "Key #28: pqrstuvwxyz1234567890 !?.ABCDEFGHIJKLMNOPQRSTUVWXYZa\n",
      "Key #29: opqrstuvwxyz1234567890 !?.ABCDEFGHIJKLMNOPQRSTUVWXYZ\n",
      "Key #30: nopqrstuvwxyz1234567890 !?.ABCDEFGHIJKLMNOPQRSTUVWXY\n",
      "Key #31: mnopqrstuvwxyz1234567890 !?.ABCDEFGHIJKLMNOPQRSTUVWX\n",
      "Key #32: lmnopqrstuvwxyz1234567890 !?.ABCDEFGHIJKLMNOPQRSTUVW\n",
      "Key #33: klmnopqrstuvwxyz1234567890 !?.ABCDEFGHIJKLMNOPQRSTUV\n",
      "Key #34: jklmnopqrstuvwxyz1234567890 !?.ABCDEFGHIJKLMNOPQRSTU\n",
      "Key #35: ijklmnopqrstuvwxyz1234567890 !?.ABCDEFGHIJKLMNOPQRST\n",
      "Key #36: hijklmnopqrstuvwxyz1234567890 !?.ABCDEFGHIJKLMNOPQRS\n",
      "Key #37: ghijklmnopqrstuvwxyz1234567890 !?.ABCDEFGHIJKLMNOPQR\n",
      "Key #38: fghijklmnopqrstuvwxyz1234567890 !?.ABCDEFGHIJKLMNOPQ\n",
      "Key #39: efghijklmnopqrstuvwxyz1234567890 !?.ABCDEFGHIJKLMNOP\n",
      "Key #40: defghijklmnopqrstuvwxyz1234567890 !?.ABCDEFGHIJKLMNO\n",
      "Key #41: cdefghijklmnopqrstuvwxyz1234567890 !?.ABCDEFGHIJKLMN\n",
      "Key #42: bcdefghijklmnopqrstuvwxyz1234567890 !?.ABCDEFGHIJKLM\n",
      "Key #43: abcdefghijklmnopqrstuvwxyz1234567890 !?.ABCDEFGHIJKL\n",
      "Key #44: Zabcdefghijklmnopqrstuvwxyz1234567890 !?.ABCDEFGHIJK\n",
      "Key #45: YZabcdefghijklmnopqrstuvwxyz1234567890 !?.ABCDEFGHIJ\n",
      "Key #46: XYZabcdefghijklmnopqrstuvwxyz1234567890 !?.ABCDEFGHI\n",
      "Key #47: WXYZabcdefghijklmnopqrstuvwxyz1234567890 !?.ABCDEFGH\n",
      "Key #48: VWXYZabcdefghijklmnopqrstuvwxyz1234567890 !?.ABCDEFG\n",
      "Key #49: UVWXYZabcdefghijklmnopqrstuvwxyz1234567890 !?.ABCDEF\n",
      "Key #50: TUVWXYZabcdefghijklmnopqrstuvwxyz1234567890 !?.ABCDE\n",
      "Key #51: STUVWXYZabcdefghijklmnopqrstuvwxyz1234567890 !?.ABCD\n",
      "Key #52: RSTUVWXYZabcdefghijklmnopqrstuvwxyz1234567890 !?.ABC\n",
      "Key #53: QRSTUVWXYZabcdefghijklmnopqrstuvwxyz1234567890 !?.AB\n",
      "Key #54: PQRSTUVWXYZabcdefghijklmnopqrstuvwxyz1234567890 !?.A\n",
      "Key #55: OPQRSTUVWXYZabcdefghijklmnopqrstuvwxyz1234567890 !?.\n",
      "Key #56: NOPQRSTUVWXYZabcdefghijklmnopqrstuvwxyz1234567890 !?\n",
      "Key #57: MNOPQRSTUVWXYZabcdefghijklmnopqrstuvwxyz1234567890 !\n",
      "Key #58: LMNOPQRSTUVWXYZabcdefghijklmnopqrstuvwxyz1234567890 \n",
      "Key #59: KLMNOPQRSTUVWXYZabcdefghijklmnopqrstuvwxyz1234567890\n",
      "Key #60: JKLMNOPQRSTUVWXYZabcdefghijklmnopqrstuvwxyz123456789\n",
      "Key #61: IJKLMNOPQRSTUVWXYZabcdefghijklmnopqrstuvwxyz12345678\n",
      "Key #62: HIJKLMNOPQRSTUVWXYZabcdefghijklmnopqrstuvwxyz1234567\n",
      "Key #63: GHIJKLMNOPQRSTUVWXYZabcdefghijklmnopqrstuvwxyz123456\n",
      "Key #64: FGHIJKLMNOPQRSTUVWXYZabcdefghijklmnopqrstuvwxyz12345\n",
      "Key #65: EFGHIJKLMNOPQRSTUVWXYZabcdefghijklmnopqrstuvwxyz1234\n"
     ]
    }
   ],
   "source": [
    "message = \"DEFGHIJKLMNOPQRSTUVWXYZabcdefghijklmnopqrstuvwxyz123\"\n",
    "SYMBOLS = \"ABCDEFGHIJKLMNOPQRSTUVWXYZabcdefghijklmnopqrstuvwxyz1234567890 !?.\"\n",
    "\n",
    "for key in range(len(SYMBOLS)):\n",
    "    translated = ''\n",
    "    for symbol in message:\n",
    "        if symbol in SYMBOLS:\n",
    "            symbolindex = SYMBOLS.find(symbol)\n",
    "            translatedindex = symbolindex - key\n",
    "            if translatedindex < 0:\n",
    "                translatedindex = translatedindex + len(SYMBOLS)\n",
    "            translated = translated + SYMBOLS[translatedindex]\n",
    "        else:\n",
    "            translated = translated + symbol\n",
    "    print('Key #%s: %s' % (key, translated))"
   ]
  },
  {
   "cell_type": "code",
   "execution_count": 22,
   "metadata": {},
   "outputs": [
    {
     "name": "stdout",
     "output_type": "stream",
     "text": [
      "Requirement already satisfied: langdetect in c:\\users\\emrec\\anaconda3\\lib\\site-packages (1.0.9)\n",
      "Requirement already satisfied: six in c:\\users\\emrec\\anaconda3\\lib\\site-packages (from langdetect) (1.16.0)\n",
      "Note: you may need to restart the kernel to use updated packages.\n",
      "Requirement already satisfied: langid in c:\\users\\emrec\\anaconda3\\lib\\site-packages (1.1.6)\n",
      "Requirement already satisfied: numpy in c:\\users\\emrec\\anaconda3\\lib\\site-packages (from langid) (1.24.3)\n",
      "Note: you may need to restart the kernel to use updated packages.\n"
     ]
    }
   ],
   "source": [
    "%pip install langdetect\n",
    "%pip install langid"
   ]
  },
  {
   "cell_type": "code",
   "execution_count": 26,
   "metadata": {},
   "outputs": [
    {
     "name": "stdout",
     "output_type": "stream",
     "text": [
      "cy\n",
      "('zu', -723.5675312280655)\n"
     ]
    }
   ],
   "source": [
    "from langdetect import detect\n",
    "import langid\n",
    "\n",
    "print(detect(ciphertext))\n",
    "print(langid.classify(ciphertext))"
   ]
  },
  {
   "cell_type": "markdown",
   "metadata": {},
   "source": [
    "### Attacking to Transposition Ciphers"
   ]
  },
  {
   "cell_type": "markdown",
   "metadata": {},
   "source": [
    "### Attacking Vigenére Cipher"
   ]
  },
  {
   "cell_type": "markdown",
   "metadata": {},
   "source": [
    "## Attacking Stream Ciphers"
   ]
  },
  {
   "cell_type": "markdown",
   "metadata": {},
   "source": [
    "### Linear Feedback Shift Register"
   ]
  },
  {
   "cell_type": "markdown",
   "metadata": {},
   "source": [
    "### Correlation Attack"
   ]
  },
  {
   "cell_type": "markdown",
   "metadata": {},
   "source": [
    "### RC4 encryption algorithm:"
   ]
  },
  {
   "cell_type": "markdown",
   "metadata": {},
   "source": [
    "### PKZIP Encryption"
   ]
  },
  {
   "cell_type": "markdown",
   "metadata": {},
   "source": [
    "## Attacking Block Ciphers"
   ]
  },
  {
   "cell_type": "markdown",
   "metadata": {},
   "source": [
    "## Hash Functions"
   ]
  },
  {
   "cell_type": "markdown",
   "metadata": {},
   "source": [
    "### The Birthday Problem"
   ]
  },
  {
   "cell_type": "markdown",
   "metadata": {},
   "source": [
    "### Birthday Attack Against Digital Signatures"
   ]
  },
  {
   "cell_type": "markdown",
   "metadata": {},
   "source": [
    "### Nostradamus Attack"
   ]
  },
  {
   "cell_type": "markdown",
   "metadata": {},
   "source": [
    "## PKI and Hybrid Systems"
   ]
  },
  {
   "cell_type": "markdown",
   "metadata": {},
   "source": [
    "### Lattice Reduction Attack"
   ]
  },
  {
   "cell_type": "markdown",
   "metadata": {},
   "source": [
    "### Man-in-the-Middle Attack "
   ]
  }
 ],
 "metadata": {
  "kernelspec": {
   "display_name": "base",
   "language": "python",
   "name": "python3"
  },
  "language_info": {
   "codemirror_mode": {
    "name": "ipython",
    "version": 3
   },
   "file_extension": ".py",
   "mimetype": "text/x-python",
   "name": "python",
   "nbconvert_exporter": "python",
   "pygments_lexer": "ipython3",
   "version": "3.11.4"
  },
  "orig_nbformat": 4
 },
 "nbformat": 4,
 "nbformat_minor": 2
}
