{
 "cells": [
  {
   "cell_type": "markdown",
   "metadata": {},
   "source": [
    "## Attacking to Substitution Ciphers"
   ]
  },
  {
   "cell_type": "markdown",
   "metadata": {},
   "source": [
    "### Cracking the Caesar Cipher\n",
    "In Caesar’s cipher, the key is 3, so anyone who knows that Caesar’s cipher is being used can decrypt the message.<br>\n",
    "\n",
    "Trying all possible keys is an exhaustive search or brute force attack. If there are N possible keys, then Alice will, on average, need to try about half of these, that is, N/2 of the keys before she can expect to find the correct key. "
   ]
  },
  {
   "cell_type": "code",
   "execution_count": 1,
   "metadata": {},
   "outputs": [],
   "source": [
    "# Caesar Cipher\n",
    "def caesar_cipher(text, shift):\n",
    "    encrypted_text = \"\"\n",
    "    for char in text:\n",
    "        if char.isalpha():  # Check if the character is a letter\n",
    "            if char.islower():\n",
    "                shifted_char = chr(((ord(char) - ord('a') + shift) % 26) + ord('a'))\n",
    "            else:\n",
    "                shifted_char = chr(((ord(char) - ord('A') + shift) % 26) + ord('A'))\n",
    "        else:\n",
    "            shifted_char = char\n",
    "        encrypted_text += shifted_char\n",
    "    return encrypted_text\n",
    "\n",
    "def caesar_decipher(text, shift):\n",
    "    return caesar_cipher(text, -shift)"
   ]
  },
  {
   "cell_type": "code",
   "execution_count": 2,
   "metadata": {},
   "outputs": [
    {
     "name": "stdout",
     "output_type": "stream",
     "text": [
      "Encrypted 'Cryptanalysis in action' is 'Fubswdqdobvlv lq dfwlrq'\n"
     ]
    }
   ],
   "source": [
    "plaintext = input(f'Input the text to encrypt')\n",
    "shift = int(input(f'Input the shift'))\n",
    "encrypted = caesar_cipher(plaintext,shift)\n",
    "print(\"Encrypted \"+ \"\\'\"+ plaintext +\"\\'\"+ \" is \"+\"\\'\"+ encrypted+\"\\'\")"
   ]
  },
  {
   "cell_type": "code",
   "execution_count": 4,
   "metadata": {},
   "outputs": [
    {
     "name": "stdout",
     "output_type": "stream",
     "text": [
      "Key #0: CDEFGHI\n",
      "Key #1: BCDEFGH\n",
      "Key #2: ABCDEFG\n",
      "Key #3: .ABCDEF\n",
      "Key #4: ?.ABCDE\n",
      "Key #5: !?.ABCD\n",
      "Key #6:  !?.ABC\n",
      "Key #7: 0 !?.AB\n",
      "Key #8: 90 !?.A\n",
      "Key #9: 890 !?.\n",
      "Key #10: 7890 !?\n",
      "Key #11: 67890 !\n",
      "Key #12: 567890 \n",
      "Key #13: 4567890\n",
      "Key #14: 3456789\n",
      "Key #15: 2345678\n",
      "Key #16: 1234567\n",
      "Key #17: z123456\n",
      "Key #18: yz12345\n",
      "Key #19: xyz1234\n",
      "Key #20: wxyz123\n",
      "Key #21: vwxyz12\n",
      "Key #22: uvwxyz1\n",
      "Key #23: tuvwxyz\n",
      "Key #24: stuvwxy\n",
      "Key #25: rstuvwx\n",
      "Key #26: qrstuvw\n",
      "Key #27: pqrstuv\n",
      "Key #28: opqrstu\n",
      "Key #29: nopqrst\n",
      "Key #30: mnopqrs\n",
      "Key #31: lmnopqr\n",
      "Key #32: klmnopq\n",
      "Key #33: jklmnop\n",
      "Key #34: ijklmno\n",
      "Key #35: hijklmn\n",
      "Key #36: ghijklm\n",
      "Key #37: fghijkl\n",
      "Key #38: efghijk\n",
      "Key #39: defghij\n",
      "Key #40: cdefghi\n",
      "Key #41: bcdefgh\n",
      "Key #42: abcdefg\n",
      "Key #43: Zabcdef\n",
      "Key #44: YZabcde\n",
      "Key #45: XYZabcd\n",
      "Key #46: WXYZabc\n",
      "Key #47: VWXYZab\n",
      "Key #48: UVWXYZa\n",
      "Key #49: TUVWXYZ\n",
      "Key #50: STUVWXY\n",
      "Key #51: RSTUVWX\n",
      "Key #52: QRSTUVW\n",
      "Key #53: PQRSTUV\n",
      "Key #54: OPQRSTU\n",
      "Key #55: NOPQRST\n",
      "Key #56: MNOPQRS\n",
      "Key #57: LMNOPQR\n",
      "Key #58: KLMNOPQ\n",
      "Key #59: JKLMNOP\n",
      "Key #60: IJKLMNO\n",
      "Key #61: HIJKLMN\n",
      "Key #62: GHIJKLM\n",
      "Key #63: FGHIJKL\n",
      "Key #64: EFGHIJK\n",
      "Key #65: DEFGHIJ\n"
     ]
    }
   ],
   "source": [
    "message = \"CDEFGHI\" # shift is 2\n",
    "SYMBOLS = \"ABCDEFGHIJKLMNOPQRSTUVWXYZabcdefghijklmnopqrstuvwxyz1234567890 !?.\"\n",
    "\n",
    "for key in range(len(SYMBOLS)):\n",
    "    translated = ''\n",
    "    for symbol in message:\n",
    "        if symbol in SYMBOLS:\n",
    "            symbolindex = SYMBOLS.find(symbol)\n",
    "            translatedindex = symbolindex - key\n",
    "            if translatedindex < 0:\n",
    "                translatedindex = translatedindex + len(SYMBOLS)\n",
    "            translated = translated + SYMBOLS[translatedindex]\n",
    "        else:\n",
    "            translated = translated + symbol\n",
    "    print('Key #%s: %s' % (key, translated))"
   ]
  },
  {
   "cell_type": "code",
   "execution_count": 16,
   "metadata": {},
   "outputs": [
    {
     "name": "stdout",
     "output_type": "stream",
     "text": [
      "Requirement already satisfied: langdetect in c:\\users\\emrec\\anaconda3\\lib\\site-packages (1.0.9)\n",
      "Requirement already satisfied: six in c:\\users\\emrec\\anaconda3\\lib\\site-packages (from langdetect) (1.16.0)\n",
      "Note: you may need to restart the kernel to use updated packages.\n",
      "Requirement already satisfied: langid in c:\\users\\emrec\\anaconda3\\lib\\site-packages (1.1.6)\n",
      "Requirement already satisfied: numpy in c:\\users\\emrec\\anaconda3\\lib\\site-packages (from langid) (1.24.3)\n",
      "Note: you may need to restart the kernel to use updated packages.\n"
     ]
    }
   ],
   "source": [
    "%pip install langdetect\n",
    "%pip install langid\n",
    "# if you use Python 3.9 then you can try fasttext"
   ]
  },
  {
   "cell_type": "code",
   "execution_count": 5,
   "metadata": {},
   "outputs": [
    {
     "name": "stdout",
     "output_type": "stream",
     "text": [
      "ca\n",
      "('en', -10.752016067504883)\n"
     ]
    }
   ],
   "source": [
    "# Detect the language\n",
    "\n",
    "from langdetect import detect\n",
    "import langid\n",
    "\n",
    "print(detect(encrypted))\n",
    "print(langid.classify(encrypted))"
   ]
  },
  {
   "cell_type": "code",
   "execution_count": 6,
   "metadata": {},
   "outputs": [
    {
     "name": "stdout",
     "output_type": "stream",
     "text": [
      "{'l': 1, 'n': 4, 'o': 1, 'a': 2, 'r': 4, 'g': 1, '.': 1, 'p': 1, 'T': 1, 'h': 1, ' ': 5, 'e': 5, 'C': 1, 'i': 3, 'F': 2, 'd': 1, 'u': 1, 'c': 1, 's': 3, 'f': 1, 'y': 3, 't': 3, 'q': 1}\n"
     ]
    }
   ],
   "source": [
    "# Try a frequency analysis\n",
    "# This is a just a simple example\n",
    "\n",
    "test_str = \"Testing the Frequency Finder for Cryptanalysis.\"\n",
    "result = {i: test_str.count(i) for i in set(test_str)}\n",
    "print(result)"
   ]
  },
  {
   "cell_type": "markdown",
   "metadata": {},
   "source": [
    "Above frequency analysis can be used for any encrypted text to reveal the language characteristics.<br>\n",
    "After analyzing the frequencies we can decide the most possible language of the plaintext.<br>\n",
    "Because language characteristics remain in Caesar Cipher, frequency analysis is a proven technique to break the encryption.<br>\n",
    "After the frequency analysis and detection of the language we can replace the characters and start to construct bigrams, trigrams and decipher the ciphertext."
   ]
  },
  {
   "cell_type": "markdown",
   "metadata": {},
   "source": [
    "This problem of frequency distribution analysis is a concern with any monoalphabetic cipher because, by its definition, every time it sees a particular letter it will always encrypt it to some given ciphertext character (as determined by the key)."
   ]
  },
  {
   "cell_type": "markdown",
   "metadata": {},
   "source": [
    "### Attacking to Transposition Ciphers"
   ]
  },
  {
   "cell_type": "markdown",
   "metadata": {},
   "source": [
    "In transposition cipher key is the number of columns in the array. To perform ciphertext only attack on this cipher, we need to test all possible decrypts using c columns, where c is a divisor of the number of characters in the ciphertext."
   ]
  },
  {
   "cell_type": "markdown",
   "metadata": {},
   "source": [
    "If there is a key in the transposition, ciphertext only attack might be a challenge but we can do that either way.<br>\n",
    "Double transposition can be a challenge to directly implement COA, but Eve can solve the ciphertext via divide-and-conquer approach."
   ]
  },
  {
   "cell_type": "markdown",
   "metadata": {},
   "source": [
    "Message: ATTACK AT DAWN → ATTACKATDAWN"
   ]
  },
  {
   "cell_type": "markdown",
   "metadata": {},
   "source": [
    "As we did at the section 3 we write row wise. We send column wise. Analyzing the ciphertext reveals the frequency characteristics of the language. If the application id polyalphabetic then frequency analysis does not work."
   ]
  },
  {
   "cell_type": "markdown",
   "metadata": {},
   "source": [
    "### Attacking Vigenére Cipher\n",
    "<ol>\n",
    "<li>Polyalphabetic substitution ciphers do not preserve the plaintext frequencies.</li>\n",
    "<li>Consider the  Vigenére Cipher with a small key.</li>\n",
    "<li>If we know the length of the key then we separate the ciphertext into equal length subtexts.</li>\n",
    "<li>Then we count the frequencies and do a frequency analysis.</li>\n",
    "<li>This will give us candidate keys combination of the candidates will reveal the real key used for encryption.</li>\n",
    "<li>If we do not know the length of the key two identical characters occurring a distance apart that is a multiple of the key length will be encrypted identically.</li>\n",
    "</ol>\n"
   ]
  },
  {
   "cell_type": "markdown",
   "metadata": {},
   "source": [
    "## Attacking Stream Ciphers"
   ]
  },
  {
   "cell_type": "markdown",
   "metadata": {},
   "source": [
    "### Linear Feedback Shift Register"
   ]
  },
  {
   "cell_type": "code",
   "execution_count": 7,
   "metadata": {},
   "outputs": [
    {
     "name": "stdout",
     "output_type": "stream",
     "text": [
      "LFSR Output Sequence: [0, 0, 0, 1, 1, 1, 0, 1, 0, 0]\n"
     ]
    }
   ],
   "source": [
    "# Example implementation of LFSR\n",
    "class LFSR:\n",
    "    def __init__(self, state, feedback_mask):\n",
    "        self.state = state\n",
    "        self.feedback_mask = feedback_mask\n",
    "        self.length = len(state)\n",
    "\n",
    "    def shift(self):\n",
    "        feedback_bit = 0\n",
    "        for i in self.feedback_mask:\n",
    "            feedback_bit ^= self.state[i]\n",
    "\n",
    "        self.state.insert(0, feedback_bit)\n",
    "        self.state.pop()\n",
    "\n",
    "    def generate_sequence(self, num_bits):\n",
    "        result = []\n",
    "        for _ in range(num_bits):\n",
    "            result.append(self.state[-1])  # Output the rightmost bit\n",
    "            self.shift()  # Shift the LFSR\n",
    "\n",
    "        return result\n",
    "\n",
    "# Example usage:\n",
    "state = [1, 0, 0, 0]  # Initial state\n",
    "feedback_mask = [0, 2]  # Feedback mask, e.g., x^4 + x^3 + 1\n",
    "\n",
    "lfsr = LFSR(state, feedback_mask)\n",
    "num_bits = 10\n",
    "\n",
    "output_sequence = lfsr.generate_sequence(num_bits)\n",
    "print(\"LFSR Output Sequence:\", output_sequence)\n"
   ]
  },
  {
   "cell_type": "markdown",
   "metadata": {},
   "source": [
    "### Correlation Attack\n",
    "<ol>\n",
    "<li>Attacker tries to recover initial fills of LSFR, then the stream cipher is broken. Because consecutive key bits can be constructed.</li>\n",
    "<li>Attacker also exhaustively tries all possibilities of the initial fills.</li>\n",
    "<li>This attack requies a known plaintext.</li>\n",
    "<li>Combinin f function must not leak information about the individual shift registers.</li>\n",
    "</ol>\n"
   ]
  },
  {
   "cell_type": "markdown",
   "metadata": {},
   "source": [
    "### RC4 encryption algorithm:"
   ]
  },
  {
   "cell_type": "markdown",
   "metadata": {},
   "source": [
    "Attacker tries to recover initial fills, then the stream cipher is broken. Because consecutive key bits can be constructed.\n",
    "Attacker also exhaustively tries all possibilities of the initial fills.\n",
    "This attack requies a known plaintext. \n",
    "Combinin f function must not leak information about the individual shift registers.\n"
   ]
  },
  {
   "cell_type": "markdown",
   "metadata": {},
   "source": [
    "### PKZIP Encryption"
   ]
  },
  {
   "cell_type": "markdown",
   "metadata": {},
   "source": [
    "- PKZIP is a file compression and archiving utility.\n",
    "- PKZIP offers optional encryption called ZipCrypto.\n",
    "- ZipCrypto uses a simple XOR-based encryption method.\n",
    "- It relies on a user-provided password for encryption and decryption.\n",
    "- Security concerns include weak encryption and predictable pseudorandom numbers.\n",
    "- For stronger encryption, it's recommended to use modern encryption methods like AES."
   ]
  },
  {
   "cell_type": "markdown",
   "metadata": {},
   "source": [
    "#### pkcrack tool for pkzip known plaintext attack"
   ]
  },
  {
   "cell_type": "markdown",
   "metadata": {},
   "source": [
    "Linux or MacOS\n",
    "\n",
    "git clone https://github.com/keyunluo/pkcrack<br>\n",
    "mkdir pkcrack/build<br>\n",
    "cd pkcrack/build<br>\n",
    "cmake ..<br>\n",
    "make<br>\n",
    "\n",
    "  pkcrack -C encrypted-ZIP -c ciphertextname -P plaintext-ZIP \n",
    "          -p plaintextname -d decrypted_file -a\n",
    "\n",
    "- Details: https://github.com/keyunluo/pkcrack"
   ]
  },
  {
   "cell_type": "markdown",
   "metadata": {},
   "source": [
    "## Attacking Block Ciphers"
   ]
  },
  {
   "cell_type": "markdown",
   "metadata": {},
   "source": [
    "## Hash Functions"
   ]
  },
  {
   "cell_type": "markdown",
   "metadata": {},
   "source": [
    "### The Birthday Problem\n",
    "\n",
    "Suppose that Eve is in a room containing a total of N people (including herself). What is the probability that at least one of the other N-1 people has the same birthday as Eve?<br>\n",
    "\n",
    "- Assume that birthdays are uniformly distributed among the 365 days in a year.\n",
    "- This problem is a discrete probability problem.\n",
    "- For each person this probability 364/365, so that for all N-1 people, the probability is (364/365)N-1. Consequently the probability we want is 1-(364/365)^N-1.\n",
    "- By setting formula to ½ and solving for N, we can find the number of people that must be in a room before we expect someone to have the same birthday as Eve.\n",
    "- If N>= 254, then the probability is greater than ½ and we expect to find someone with the same birthday as Eve.\n",
    "- On the other hand if we want to find two people in a room share the same birthday, where there are N people in the room.\n",
    "- 1-365/365.364/365.363/365…(365-N+1)/365; N<= 366\n",
    "- When N>=23 than probability is greater than ½\n",
    "- Therefore at least 24 people share the same birthday. This is called the birthday paradox\n",
    "Weak collision resistance → Brute force until finding a match against h(x)\n"
   ]
  },
  {
   "cell_type": "code",
   "execution_count": 9,
   "metadata": {},
   "outputs": [
    {
     "name": "stdout",
     "output_type": "stream",
     "text": [
      "Probability of at least two people sharing a birthday in a group of 23 is approximately: 0.5150\n"
     ]
    }
   ],
   "source": [
    "import random\n",
    "\n",
    "def birthday_simulation(num_simulations, num_people):\n",
    "    matching_birthdays = 0\n",
    "\n",
    "    for _ in range(num_simulations):\n",
    "        birthdays = [random.randint(1, 365) for _ in range(num_people)]\n",
    "        if len(birthdays) != len(set(birthdays)):\n",
    "            matching_birthdays += 1\n",
    "\n",
    "    probability = matching_birthdays / num_simulations\n",
    "    return probability\n",
    "\n",
    "def main():\n",
    "    num_simulations = 10000  # Number of simulations\n",
    "    num_people = 23  # Number of people in each group\n",
    "\n",
    "    probability = birthday_simulation(num_simulations, num_people)\n",
    "\n",
    "    print(f\"Probability of at least two people sharing a birthday in a group of {num_people} is approximately: {probability:.4f}\")\n",
    "\n",
    "if __name__ == \"__main__\":\n",
    "    main()\n"
   ]
  },
  {
   "cell_type": "markdown",
   "metadata": {},
   "source": [
    "### Birthday Attack Against Digital Signatures\n",
    "- Eve gets digitally signed message from Alice \n",
    "- Then Eve creates 2^n/2 messages all of them are not malicious and meaning the same (such as I), their hashes are different.\n",
    "- Eve creates 2^n/2 messages all are malicious and meaning the same, their hashes are different\n",
    "- If there is a match in signatures in malicious and non malicious and Eve asks Alice to sign matching pair of the non malicious message then she got the Alice’s signature with a brute force attack\n"
   ]
  },
  {
   "cell_type": "markdown",
   "metadata": {},
   "source": [
    "### Nostradamus Attack \n",
    "Please refer to the course content."
   ]
  },
  {
   "cell_type": "markdown",
   "metadata": {},
   "source": [
    "## PKI and Hybrid Systems"
   ]
  },
  {
   "cell_type": "markdown",
   "metadata": {},
   "source": [
    "### Lattice Reduction Attack"
   ]
  },
  {
   "cell_type": "markdown",
   "metadata": {},
   "source": [
    "A lattice reduction attack is a type of cryptographic attack that targets encryption schemes based on lattice problems. Lattice problems involve finding the shortest vector in a lattice, which is a grid-like structure in multi-dimensional space. Here's a simplified explanation with pseudo-code:\n",
    "\n",
    "```plaintext\n",
    "# Pseudo-code for a Lattice Reduction Attack\n",
    "# Step 1: Define the lattice\n",
    "lattice = generate_lattice_basis()\n",
    "\n",
    "# Step 2: Apply lattice reduction algorithm\n",
    "reduced_lattice = reduce_lattice(lattice)\n",
    "\n",
    "# Step 3: Solve the SVP (Shortest Vector Problem)\n",
    "shortest_vector = solve_svp(reduced_lattice)\n",
    "\n",
    "# Step 4: Find the secret key\n",
    "secret_key = derive_secret_key(shortest_vector)\n",
    "\n",
    "# Step 5: Decrypt the ciphertext\n",
    "plaintext = decrypt(ciphertext, secret_key)\n",
    "\n",
    "# Step 6: Recover the original message\n",
    "original_message = remove_padding(plaintext)\n",
    "\n",
    "# Output the result\n",
    "print(\"Recovered Message:\", original_message)\n",
    "```\n",
    "\n",
    "In this pseudo-code:\n",
    "\n",
    "1. We start by defining the lattice, which is often generated based on the public parameters of the encryption scheme.\n",
    "\n",
    "2. We apply a lattice reduction algorithm to reduce the lattice. The goal of lattice reduction is to transform the lattice in such a way that the shortest vector becomes easier to find.\n",
    "\n",
    "3. We solve the Shortest Vector Problem (SVP) on the reduced lattice. This problem involves finding the shortest non-zero vector in the lattice.\n",
    "\n",
    "4. Once we have the shortest vector, we derive the secret key from it. This is possible because the secret key is usually related to some properties of the lattice.\n",
    "\n",
    "5. With the secret key in hand, we can decrypt the ciphertext.\n",
    "\n",
    "6. Finally, we remove any padding or additional processing to recover the original message.\n",
    "\n",
    "Lattice-based cryptography is designed to make these steps computationally difficult, ensuring the security of encryption schemes based on lattice problems. However, advances in lattice reduction algorithms and other mathematical techniques may pose a threat to the security of these systems, which is why ongoing research and analysis are essential in the field of cryptography."
   ]
  },
  {
   "cell_type": "markdown",
   "metadata": {},
   "source": [
    "### Man-in-the-Middle Attack "
   ]
  },
  {
   "cell_type": "markdown",
   "metadata": {},
   "source": [
    "A Man-in-the-Middle (MitM) attack in the context of SSL (Secure Sockets Layer) or its successor TLS (Transport Layer Security) is an attack where an adversary intercepts communication between two parties (e.g., a client and a server) and can potentially eavesdrop on or manipulate the data being exchanged. Here's a high-level explanation with pseudo-code to demonstrate a MitM attack:\n",
    "\n",
    "```plaintext\n",
    "# Pseudo-Code for a Man-in-the-Middle Attack on SSL/TLS\n",
    "\n",
    "# Step 1: Attacker intercepts the initial connection attempts\n",
    "client_hello = intercept_client_hello()\n",
    "server_hello = intercept_server_hello()\n",
    "\n",
    "# Step 2: Attacker impersonates the client and initiates a connection with the server\n",
    "attacker_client_hello = modify_client_hello(client_hello)\n",
    "server_response = send_to_server(attacker_client_hello)\n",
    "\n",
    "# Step 3: Attacker intercepts the server's response and sends it to the client\n",
    "attacker_server_response = intercept_server_response(server_response)\n",
    "send_to_client(attacker_server_response)\n",
    "\n",
    "# Step 4: Client and server establish an encrypted connection, unaware of the attacker\n",
    "client_finished = intercept_client_finished()\n",
    "server_finished = intercept_server_finished()\n",
    "\n",
    "# Step 5: Attacker can now intercept, eavesdrop, or manipulate data between client and server\n",
    "data_from_client = intercept_data_from_client()\n",
    "data_from_server = intercept_data_from_server()\n",
    "modify_data(data_from_client)\n",
    "modify_data(data_from_server)\n",
    "send_to_server(data_from_client)\n",
    "send_to_client(data_from_server)\n",
    "\n",
    "# Continue eavesdropping or manipulating data as needed\n",
    "\n",
    "# End of the attack\n",
    "```\n",
    "\n",
    "In this pseudo-code:\n",
    "\n",
    "1. The attacker intercepts the initial client_hello and server_hello messages during the SSL/TLS handshake, which initiates the secure connection.\n",
    "\n",
    "2. The attacker impersonates the client and crafts a modified client_hello message to initiate a connection with the server, pretending to be the client.\n",
    "\n",
    "3. The server responds, believing it is communicating with the client, and the attacker intercepts this response.\n",
    "\n",
    "4. The attacker forwards the server's response to the client.\n",
    "\n",
    "5. The client and server continue with the handshake, establishing an encrypted connection. During this phase, the attacker may intercept and manipulate data between the client and server.\n",
    "\n",
    "6. Once the MitM attack is successful, the attacker can eavesdrop on the data being exchanged or even modify it.\n",
    "\n",
    "MitM attacks on SSL/TLS are dangerous because they can compromise the confidentiality and integrity of secure communications. To prevent MitM attacks, SSL/TLS implementations employ techniques like certificate validation and secure key exchange protocols to ensure the authenticity of the parties involved in the communication. Additionally, the use of public key infrastructure (PKI) and proper certificate management helps establish trust in SSL/TLS connections."
   ]
  }
 ],
 "metadata": {
  "kernelspec": {
   "display_name": "base",
   "language": "python",
   "name": "python3"
  },
  "language_info": {
   "codemirror_mode": {
    "name": "ipython",
    "version": 3
   },
   "file_extension": ".py",
   "mimetype": "text/x-python",
   "name": "python",
   "nbconvert_exporter": "python",
   "pygments_lexer": "ipython3",
   "version": "3.11.4"
  },
  "orig_nbformat": 4
 },
 "nbformat": 4,
 "nbformat_minor": 2
}
