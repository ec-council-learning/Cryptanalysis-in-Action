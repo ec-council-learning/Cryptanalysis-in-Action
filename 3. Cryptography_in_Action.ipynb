{
 "cells": [
  {
   "cell_type": "markdown",
   "metadata": {},
   "source": [
    "# SYMMETRIC ENCRYPTION "
   ]
  },
  {
   "cell_type": "markdown",
   "metadata": {},
   "source": [
    "Encryption and decryption keys are the same in symmetric encryption."
   ]
  },
  {
   "cell_type": "markdown",
   "metadata": {},
   "source": [
    "## Monoalphabetic Substitution (Historical) Ciphers "
   ]
  },
  {
   "cell_type": "markdown",
   "metadata": {},
   "source": [
    "### Caesar Cipher / Shift Cipher"
   ]
  },
  {
   "cell_type": "markdown",
   "metadata": {},
   "source": [
    "<img src=\"./CC.jpg\" alt=\"Caasar Cipher, how does it work?\"/><br>\n",
    "Traditional Caesar Cipher key is 3.<br>\n",
    "This means 'A' becomes 'D' and 'B' becomes 'E'...<br>\n",
    "Traditional Caesar Cipher uses upper case.<br>\n",
    "Below you can test the implementation of Caesar Cipher in Python.<br>\n",
    "Since selecting key 3 is trivial to implement, we let the user to choose the key.<br>\n",
    "For instance, if the key is selected as 5 then 'A' will be shifted 5 characters and becomes'F'."
   ]
  },
  {
   "cell_type": "code",
   "execution_count": 49,
   "metadata": {},
   "outputs": [],
   "source": [
    "# caesar_cipher_encryptor() method is the implementation.\n",
    "def caesar_cipher_encryptor(shift,text):\n",
    "    encrypted = \"\"\n",
    "    for letter in text:\n",
    "        if letter.isalpha():\n",
    "            shift = shift%26\n",
    "            encrypted += chr((ord(letter) + shift) )\n",
    "        else:\n",
    "            encrypted += letter\n",
    "    return encrypted"
   ]
  },
  {
   "cell_type": "code",
   "execution_count": 50,
   "metadata": {},
   "outputs": [
    {
     "name": "stdout",
     "output_type": "stream",
     "text": [
      "Encryption Example -->\n",
      "Plaintext: Hello World\n",
      "Key input: 3\n",
      "Encryption result: Khoor Zruog\n"
     ]
    }
   ],
   "source": [
    "# Get the user input for key and paintext\n",
    "print(\"Encryption Example -->\")\n",
    "plaintext = input(\"Please input the plaintext: \")\n",
    "print(\"Plaintext: \" + plaintext)\n",
    "try:\n",
    "    key = int(input(\"Please input the key: \"))\n",
    "except:\n",
    "    print(\"Cannot input character as the shift for Caesar Cipher!\")\n",
    "print(\"Key input: \" + str(key))\n",
    "\n",
    "ciphertext = caesar_cipher_encryptor(key,plaintext)\n",
    "print(\"Encryption result: \" + ciphertext)"
   ]
  },
  {
   "cell_type": "code",
   "execution_count": 51,
   "metadata": {},
   "outputs": [],
   "source": [
    "# caesar_cipher_decryptor() method is the implementation.\n",
    "def caesar_cipher_decryptor(shift,text):\n",
    "    decrypted = \"\"\n",
    "    for letter in text:\n",
    "        if letter.isalpha():\n",
    "            shift = shift%26\n",
    "            decrypted += chr((ord(letter) - shift) )\n",
    "        else:\n",
    "            decrypted += letter\n",
    "    return decrypted"
   ]
  },
  {
   "cell_type": "code",
   "execution_count": 52,
   "metadata": {},
   "outputs": [
    {
     "name": "stdout",
     "output_type": "stream",
     "text": [
      "Decryption Example -->\n",
      "Ciphertext: Khoor Zruog\n",
      "Key input: 3\n",
      "Decryption result: Hello World\n"
     ]
    }
   ],
   "source": [
    "# Get the user inpuut for key and ciphertext\n",
    "print(\"Decryption Example -->\")\n",
    "ciphertext = input(\"Please input the ciphertext\")\n",
    "print(\"Ciphertext: \" + ciphertext)\n",
    "try:\n",
    "    key = int(input(\"Please input the key: \"))\n",
    "except:\n",
    "    print(\"Cannot input character as the shift for Caesar Cipher!\")\n",
    "print(\"Key input: \" + str(key))\n",
    "\n",
    "plaintext = caesar_cipher_decryptor(key,ciphertext)\n",
    "print(\"Decryption result: \" + plaintext)"
   ]
  },
  {
   "cell_type": "markdown",
   "metadata": {},
   "source": [
    "### General Substitution Cipher\n",
    "<img src=\"./GSC.jpg\" alt=\"General Substitution Cipher\"><br>\n",
    "Similar to Caesar Cipher, but we create a mixed alphabet and send the message with the matching letter for the plaintext letter.<br>\n",
    "The possible keys are 26! ~ 2^88<br>\n",
    "The general substitution cipher can bebroken using frequency analysis.<br>"
   ]
  },
  {
   "cell_type": "code",
   "execution_count": 88,
   "metadata": {},
   "outputs": [
    {
     "name": "stdout",
     "output_type": "stream",
     "text": [
      "['h', 'i', 'r', 's', 'u', 'w', 'x', 'z', 'c', 'p', 'd', 't', 'v', 'b', 'n', 'g', 'k', 'y', 'o', 'f', 'm', 'a', 'l', 'j', 'g', 'e']\n"
     ]
    }
   ],
   "source": [
    "import random\n",
    "\n",
    "alphabet = ['a','b','c','d','e','f','g','h','i','j','k','l','m','n','o','p','g','r','s','t','u','v','w','x','y','z']\n",
    "cipher_alphabet = ['a','b','c','d','e','f','g','h','i','j','k','l','m','n','o','p','g','r','s','t','u','v','w','x','y','z']\n",
    "\n",
    "n = len(alphabet)-1\n",
    "for i in range(n):\n",
    "    rand_i = random.randint(0,n)\n",
    "    tmp = cipher_alphabet.pop(rand_i)\n",
    "    cipher_alphabet.append(tmp)\n",
    "print(cipher_alphabet)\n",
    "lookup = dict(zip(alphabet,cipher_alphabet))\n",
    "              \n",
    "def general_sub_cipher_encrypt(message):\n",
    "    encrypted_message = \"\"\n",
    "    for char in message:\n",
    "        if char.isalpha():\n",
    "            if char.isupper():\n",
    "                tmp = lookup[char.lower()]\n",
    "                encrypted_char = tmp.upper()\n",
    "                encrypted_message += encrypted_char\n",
    "            else:\n",
    "                encrypted_char = lookup[char]\n",
    "                encrypted_message += encrypted_char\n",
    "        else:\n",
    "            encrypted_message += char\n",
    "    return encrypted_message\n",
    "\n",
    "\n",
    "def general_sub_cipher_decrypt(encrypted_message):\n",
    "    decrypted_message = \"\"\n",
    "    for char in encrypted_message:\n",
    "        if char.isalpha():\n",
    "            if char.isupper():\n",
    "                tmp = char.lower()\n",
    "                for key, value in lookup.items():\n",
    "                    if tmp == value:\n",
    "                        decrypted_message += key\n",
    "            else:\n",
    "                for key, value in lookup.items():\n",
    "                    if char == value:\n",
    "                        decrypted_message += key             \n",
    "        else:\n",
    "            decrypted_message += char\n",
    "    return decrypted_message"
   ]
  },
  {
   "cell_type": "code",
   "execution_count": 91,
   "metadata": {},
   "outputs": [
    {
     "name": "stdout",
     "output_type": "stream",
     "text": [
      "General Substitution Cipher Encryption Example -->\n",
      "Plaintext: Hello World!\n",
      "Encryption result: Zuttn Lnyts!\n"
     ]
    }
   ],
   "source": [
    "# Get the user input for ciphertext\n",
    "print(\"General Substitution Cipher Encryption Example -->\")\n",
    "plaintext = input(\"Please input the plaintext: \")\n",
    "print(\"Plaintext: \" + plaintext)\n",
    "ciphertext = general_sub_cipher_encrypt(plaintext)\n",
    "print(\"Encryption result: \" + ciphertext)"
   ]
  },
  {
   "cell_type": "code",
   "execution_count": 92,
   "metadata": {},
   "outputs": [
    {
     "name": "stdout",
     "output_type": "stream",
     "text": [
      "General Substitution Cipher Decryption Example -->\n",
      "Ciphertext: Zuttn Lnyts!\n",
      "Decryption result: Hello World!\n"
     ]
    }
   ],
   "source": [
    "# Get the user input for paintext\n",
    "print(\"General Substitution Cipher Decryption Example -->\")\n",
    "ciphertext = input(\"Please input the ciphertext: \")\n",
    "print(\"Ciphertext: \" + ciphertext)\n",
    "ciphertext = general_sub_cipher_decrypt(ciphertext)\n",
    "print(\"Decryption result: \" + plaintext)"
   ]
  },
  {
   "cell_type": "markdown",
   "metadata": {},
   "source": [
    "## Polyalphabetic Substitution Ciphers\n",
    "With monoalphabetic ciphers, every time we saw a given input (with some key) it become a given output.<br>\n",
    "We hid the original character, but we failed to hide the underlying language.<br>\n"
   ]
  },
  {
   "cell_type": "markdown",
   "metadata": {},
   "source": [
    "### Vigenère Cipher\n",
    "Invented by Blaise de Vigenere c. 1550, considered unbreakable for 300 years, <br>\n",
    "broken by Charles Babbage, and used by the South in the U.S. Civil War.<br>\n",
    "<br>\n",
    "We treat that top row as the Caesar cipher key and the leftmost column as the plaintext.<br> \n",
    "Then, the middle stuff is the ciphertext.<br>\n",
    "You can see how each column is just a shift of the alphabet, according to the key. An example follows in the next few slides.<br>\n",
    "\n",
    "<img src=\"VC.jpg\">\n",
    "<br>\n",
    "Key = ROPE<br>\n",
    "<br>\n",
    "M = ATTACK AT DAWN<br>\n",
    "K = ROPERO PE ROPE<br>\n"
   ]
  },
  {
   "cell_type": "code",
   "execution_count": 93,
   "metadata": {},
   "outputs": [],
   "source": [
    "def vignere_ciher_encrypt(plaintext, key):\n",
    "    ciphertext = \"\"\n",
    "    key_index = 0\n",
    "    for char in plaintext:\n",
    "        if char.isalpha():\n",
    "            key_char = key[key_index % len(key)]\n",
    "            if char.isupper():\n",
    "                base = ord('A')\n",
    "            else:\n",
    "                base = ord('a')\n",
    "            encrypted_char = chr((ord(char) - base + ord(key_char) - base) % 26 + base)\n",
    "            ciphertext += encrypted_char\n",
    "            key_index += 1\n",
    "        else:\n",
    "            ciphertext += char\n",
    "    return ciphertext\n",
    "\n",
    "\n",
    "def vignere_ciher_decrypt(ciphertext, key):\n",
    "    plaintext = \"\"\n",
    "    key_index = 0\n",
    "    for char in ciphertext:\n",
    "        if char.isalpha():\n",
    "            key_char = key[key_index % len(key)]\n",
    "            if char.isupper():\n",
    "                base = ord('A')\n",
    "            else:\n",
    "                base = ord('a')\n",
    "            decrypted_char = chr((ord(char) - base - (ord(key_char) - base) + 26) % 26 + base)\n",
    "            plaintext += decrypted_char\n",
    "            key_index += 1\n",
    "        else:\n",
    "            plaintext += char\n",
    "    return plaintext"
   ]
  },
  {
   "cell_type": "code",
   "execution_count": 94,
   "metadata": {},
   "outputs": [
    {
     "name": "stdout",
     "output_type": "stream",
     "text": [
      "Vignere Cipher Encryption Example -->\n",
      "Plaintext: Hello World!\n",
      "Encryption result: Esapf Qdvcr!\n"
     ]
    }
   ],
   "source": [
    "# Get the user input for ciphertext\n",
    "print(\"Vignere Cipher Encryption Example -->\")\n",
    "plaintext = input(\"Please input the plaintext: \")\n",
    "key = input(\"Please input the key: \")\n",
    "print(\"Plaintext: \" + plaintext)\n",
    "ciphertext = vignere_ciher_encrypt(plaintext, key)\n",
    "print(\"Encryption result: \" + ciphertext)"
   ]
  },
  {
   "cell_type": "code",
   "execution_count": 95,
   "metadata": {},
   "outputs": [
    {
     "name": "stdout",
     "output_type": "stream",
     "text": [
      "Vignere Cipher Decryption Example -->\n",
      "Ciphertext: Esapf Qdvcr!\n",
      "Decryption result: Hello World!\n"
     ]
    }
   ],
   "source": [
    "# Get the user input for plaintext\n",
    "print(\"Vignere Cipher Decryption Example -->\")\n",
    "ciphertext = input(\"Please input the ciphertext: \")\n",
    "key = input(\"Please input the key: \")\n",
    "print(\"Ciphertext: \" + ciphertext)\n",
    "plaintext = vignere_ciher_decrypt(ciphertext, key)\n",
    "print(\"Decryption result: \" + plaintext)"
   ]
  },
  {
   "cell_type": "markdown",
   "metadata": {},
   "source": [
    "### One-Time Pad\n",
    "\n",
    "What if we changed the rules for using the Vigenère cipher to the following:<br>\n",
    "<ol>\n",
    "<li>Have a key as long as the message (is non-repeating)</li>\n",
    "<li>se a randomly generated key</li>\n",
    "</ol>\n",
    "<em>How could this be broken? If the key was used on multiple messages, we could still analyze each 1st letter of every message to get a frequency distribution.<br>\n",
    "We need about 20 messages or so to do it.</em><br>\n",
    "\n",
    "OTP becomes the known unbreakable encryption if:<br>\n",
    "<ol>\n",
    "<li>Have a key as long as the message (is non-repeating)</li>\n",
    "<li>Use a randomly generated key</li>\n",
    "<li>The key is never used on another plaintext</li>\n",
    "</ol>\n",
    "Because:<br>\n",
    "<ol>\n",
    "<li>The use of the key, there are no statistics to use for plaintext extraction</li>\n",
    "<li>Brute force is too expensive and even if the resulting messages are all different you cannot tell which message is the genuine one.</li>\n",
    "</ol>\n",
    "Problems:<br>\n",
    "<ol>\n",
    "<li>Key distribution</li>\n",
    "<li>The key must be as long as the message</li>\n",
    "<li>Keys must be random.</li>\n",
    "</ol>\n"
   ]
  },
  {
   "cell_type": "markdown",
   "metadata": {},
   "source": [
    "## Transposition/Permutation Ciphers\n",
    "Until this point, we try to hide secrets using the substitution operation. Transposition is rearranging the characters in a reversible way to obtain plaintext later.<br>\n",
    "Take a table and write the message in columns and read it off in rows.<br>\n",
    "\n",
    "M = ATTACKTODAY<br>\n",
    "\n",
    "<table>\n",
    "<tr>\n",
    "<td>A</td>\n",
    "<td>A</td>\n",
    "<td>T</td>\n",
    "<td>A</td>\n",
    "</tr>\n",
    "<tr>\n",
    "<td>T</td>\n",
    "<td>C</td>\n",
    "<td>O</td>\n",
    "<td>Y</td>\n",
    "</tr>\n",
    "<tr>\n",
    "<td>T</td>\n",
    "<td>K</td>\n",
    "<td>D</td>\n",
    "<td> </td>\n",
    "</tr>\n",
    "</table>\n",
    "\n",
    "C = AATATCOYTKD<br>\n",
    "\n",
    "\n",
    "<table>\n",
    "<tr>\n",
    "<td>K</td>\n",
    "<td></td>\n",
    "<td></td>\n",
    "<td></td>\n",
    "<td></td>\n",
    "</tr>\n",
    "<tr>\n",
    "<td>3</td>\n",
    "<td>A</td>\n",
    "<td>A</td>\n",
    "<td>T</td>\n",
    "<td>A</td>\n",
    "</tr>\n",
    "<tr>\n",
    "<td>1</td>\n",
    "<td>T</td>\n",
    "<td>C</td>\n",
    "<td>O</td>\n",
    "<td>Y</td>\n",
    "</tr>\n",
    "<tr>\n",
    "<td>2</td>\n",
    "<td>T</td>\n",
    "<td>K</td>\n",
    "<td>D</td>\n",
    "<td> </td>\n",
    "</tr>\n",
    "</table>\n",
    "\n",
    "C = TCOYTKDAATA\n"
   ]
  },
  {
   "cell_type": "markdown",
   "metadata": {},
   "source": [
    "## Modern Block Ciphers"
   ]
  },
  {
   "cell_type": "markdown",
   "metadata": {},
   "source": [
    "### DES 3DES AES"
   ]
  },
  {
   "cell_type": "code",
   "execution_count": null,
   "metadata": {},
   "outputs": [],
   "source": [
    "# DES Example\n",
    "from Crypto.Cipher import DES\n",
    "\n",
    "def pad(text):\n",
    "    n = len(text) % 8\n",
    "    return text + (b' ' * n)\n",
    "\n",
    "\n",
    "key = b'hello123'\n",
    "text1 = b'Python is the Best Language!'\n",
    "\n",
    "des = DES.new(key, DES.MODE_ECB)\n",
    "\n",
    "padded_text = pad(text1)\n",
    "encrypted_text = des.encrypt(padded_text)\n",
    "\n",
    "print(encrypted_text)\n",
    "print(des.decrypt(encrypted_text))"
   ]
  },
  {
   "cell_type": "code",
   "execution_count": null,
   "metadata": {},
   "outputs": [],
   "source": [
    "%pip install pyaes\n",
    "%pip install pbkdf2\n",
    "\n",
    "import pyaes, pbkdf2, binascii, os, secrets\n",
    "\n",
    "# Derive a 256-bit AES encryption key from the password\n",
    "password = \"s3cr3t*c0d3\"\n",
    "passwordSalt = os.urandom(16)\n",
    "key = pbkdf2.PBKDF2(password, passwordSalt).read(32)\n",
    "print('AES encryption key:', binascii.hexlify(key))"
   ]
  },
  {
   "cell_type": "code",
   "execution_count": null,
   "metadata": {},
   "outputs": [],
   "source": [
    "# Encrypt the plaintext with the given key:\n",
    "#   ciphertext = AES-256-CTR-Encrypt(plaintext, key, iv)\n",
    "iv = secrets.randbits(256)\n",
    "plaintext = \"Text for encryption\"\n",
    "aes = pyaes.AESModeOfOperationCTR(key, pyaes.Counter(iv))\n",
    "ciphertext = aes.encrypt(plaintext)\n",
    "print('Encrypted:', binascii.hexlify(ciphertext))"
   ]
  },
  {
   "cell_type": "code",
   "execution_count": null,
   "metadata": {},
   "outputs": [],
   "source": [
    "# Decrypt the ciphertext with the given key:\n",
    "#   plaintext = AES-256-CTR-Decrypt(ciphertext, key, iv)\n",
    "aes = pyaes.AESModeOfOperationCTR(key, pyaes.Counter(iv))\n",
    "decrypted = aes.decrypt(ciphertext)\n",
    "print('Decrypted:', decrypted)"
   ]
  },
  {
   "cell_type": "code",
   "execution_count": null,
   "metadata": {},
   "outputs": [],
   "source": [
    "key = os.urandom(32)   # random decryption key\n",
    "aes = pyaes.AESModeOfOperationCTR(key, pyaes.Counter(iv))\n",
    "print('Wrongly decrypted:', aes.decrypt(ciphertext))"
   ]
  },
  {
   "cell_type": "code",
   "execution_count": null,
   "metadata": {},
   "outputs": [],
   "source": [
    "%pip install pycryptodome"
   ]
  },
  {
   "cell_type": "code",
   "execution_count": null,
   "metadata": {},
   "outputs": [],
   "source": [
    "from Crypto.Cipher import AES\n",
    "import binascii, os\n",
    "\n",
    "def encrypt_AES_GCM(msg, secretKey):\n",
    "    aesCipher = AES.new(secretKey, AES.MODE_GCM)\n",
    "    ciphertext, authTag = aesCipher.encrypt_and_digest(msg)\n",
    "    return (ciphertext, aesCipher.nonce, authTag)\n",
    "\n",
    "def decrypt_AES_GCM(encryptedMsg, secretKey):\n",
    "    (ciphertext, nonce, authTag) = encryptedMsg\n",
    "    aesCipher = AES.new(secretKey, AES.MODE_GCM, nonce)\n",
    "    plaintext = aesCipher.decrypt_and_verify(ciphertext, authTag)\n",
    "    return plaintext\n",
    "\n",
    "secretKey = os.urandom(32)  # 256-bit random encryption key\n",
    "print(\"Encryption key:\", binascii.hexlify(secretKey))\n",
    "\n",
    "msg = b'Message for AES-256-GCM + Scrypt encryption'\n",
    "encryptedMsg = encrypt_AES_GCM(msg, secretKey)\n",
    "print(\"encryptedMsg\", {\n",
    "    'ciphertext': binascii.hexlify(encryptedMsg[0]),\n",
    "    'aesIV': binascii.hexlify(encryptedMsg[1]),\n",
    "    'authTag': binascii.hexlify(encryptedMsg[2])\n",
    "})\n",
    "\n",
    "decryptedMsg = decrypt_AES_GCM(encryptedMsg, secretKey)\n",
    "print(\"decryptedMsg\", decryptedMsg)"
   ]
  },
  {
   "cell_type": "code",
   "execution_count": null,
   "metadata": {},
   "outputs": [],
   "source": [
    "from Crypto.Cipher import AES\n",
    "import scrypt, os, binascii\n",
    "\n",
    "def encrypt_AES_GCM(msg, password):\n",
    "    kdfSalt = os.urandom(16)\n",
    "    secretKey = scrypt.hash(password, kdfSalt, N=16384, r=8, p=1, buflen=32)\n",
    "    aesCipher = AES.new(secretKey, AES.MODE_GCM)\n",
    "    ciphertext, authTag = aesCipher.encrypt_and_digest(msg)\n",
    "    return (kdfSalt, ciphertext, aesCipher.nonce, authTag)\n",
    "\n",
    "def decrypt_AES_GCM(encryptedMsg, password):\n",
    "    (kdfSalt, ciphertext, nonce, authTag) = encryptedMsg\n",
    "    secretKey = scrypt.hash(password, kdfSalt, N=16384, r=8, p=1, buflen=32)\n",
    "    aesCipher = AES.new(secretKey, AES.MODE_GCM, nonce)\n",
    "    plaintext = aesCipher.decrypt_and_verify(ciphertext, authTag)\n",
    "    return plaintext\n",
    "\n",
    "msg = b'Message for AES-256-GCM + Scrypt encryption'\n",
    "password = b's3kr3tp4ssw0rd'\n",
    "encryptedMsg = encrypt_AES_GCM(msg, password)\n",
    "print(\"encryptedMsg\", {\n",
    "    'kdfSalt': binascii.hexlify(encryptedMsg[0]),\n",
    "    'ciphertext': binascii.hexlify(encryptedMsg[1]),\n",
    "    'aesIV': binascii.hexlify(encryptedMsg[2]),\n",
    "    'authTag': binascii.hexlify(encryptedMsg[3])\n",
    "})\n",
    "\n",
    "decryptedMsg = decrypt_AES_GCM(encryptedMsg, password)\n",
    "print(\"decryptedMsg\", decryptedMsg)"
   ]
  },
  {
   "cell_type": "code",
   "execution_count": null,
   "metadata": {},
   "outputs": [],
   "source": [
    "from Crypto.Cipher import AES\n",
    "from Crypto.Random import get_random_bytes\n",
    "\n",
    "\n",
    "# Generate a random 128-bit key\n",
    "key = get_random_bytes(16)\n",
    "\n",
    "\n",
    "# Create an AES cipher object with the key\n",
    "# we can change the mode ...\n",
    "cipher = AES.new(key, AES.MODE_ECB)\n",
    "\n",
    "\n",
    "# Encrypt plaintext\n",
    "plaintext = b\"Hello, world!\"\n",
    "ciphertext = cipher.encrypt(plaintext)\n",
    "\n",
    "\n",
    "# Decrypt ciphertext\n",
    "decrypted = cipher.decrypt(ciphertext)\n",
    "\n",
    "\n",
    "# Print the results\n",
    "print(\"Plaintext: \", plaintext)\n",
    "print(\"Ciphertext: \", ciphertext)\n",
    "print(\"Decrypted: \", decrypted)"
   ]
  },
  {
   "cell_type": "markdown",
   "metadata": {},
   "source": [
    "### PKCS #5 Padding\n",
    "Hexadecimal padding of a 64-bit block<br>\n",
    "1 byte:   01<br>\n",
    "2 bytes:  0202<br>\n",
    "3 bytes:  030303, up to<br>\n",
    "8 bytes:  0808080808080808<br>\n",
    "Always adds padding, so the last byte is guaranteed to be a pad byte<br>\n",
    "This allows the padding to be removed unambiguously after decryption<br>\n",
    "\n",
    "<img src=\".\\Pad.jpg\">"
   ]
  },
  {
   "cell_type": "markdown",
   "metadata": {},
   "source": [
    "## Modes in Symmetric Encryption\n",
    "Modes of operation examples are at the AES code examples."
   ]
  },
  {
   "cell_type": "markdown",
   "metadata": {},
   "source": [
    "## CONCLUSION\n",
    "We concluded our explanation about the symmetric cryptographic applications."
   ]
  }
 ],
 "metadata": {
  "kernelspec": {
   "display_name": "base",
   "language": "python",
   "name": "python3"
  },
  "language_info": {
   "codemirror_mode": {
    "name": "ipython",
    "version": 3
   },
   "file_extension": ".py",
   "mimetype": "text/x-python",
   "name": "python",
   "nbconvert_exporter": "python",
   "pygments_lexer": "ipython3",
   "version": "3.9.16"
  },
  "orig_nbformat": 4
 },
 "nbformat": 4,
 "nbformat_minor": 2
}
