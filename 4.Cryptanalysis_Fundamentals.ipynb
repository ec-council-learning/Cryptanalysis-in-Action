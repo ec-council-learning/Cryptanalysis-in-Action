{
 "cells": [
  {
   "cell_type": "markdown",
   "metadata": {},
   "source": [
    "## What is Cryptanalysis\n",
    "Cryptanalysis is the methods and techniques to decrypting an enciphered message without having a knowledge about the key or cipher design.<br>\n",
    "\n",
    "Cyrptanalysis is a code breaking process.<br>\n",
    "\n",
    "Cryptanalysis has been used for;<br>\n",
    "Analyzing the ciphertext and the algorithm by the nation states, intelligence community<br>\n",
    "Testing a new encryption algorithm (friendly) for improving the security of the algorithm<br>\n"
   ]
  },
  {
   "cell_type": "markdown",
   "metadata": {},
   "source": [
    "#### History\n",
    "The history of cryptanalysis is long and complex, but here is a brief chronological list of some of the key events:<br>\n",
    "<ul>\n",
    "<li><em>1400 BC:</em> The first known cipher, the Atbash cipher, is developed in ancient Egypt.</li>\n",
    "<li><em>800 BC:</em> Al-Kindi’s Frequency Analysis for monoalphabetic substitution ciphers.</li>\n",
    "<li><em>400 BC:</em> The first known cryptanalysis text, The Scytale, is written by the Greek mathematician Polybius.</li>\n",
    "<li><em>15th century:</em> The Vigenère cipher is developed in France.</li>\n",
    "<li><em>19th century:</em> The first mechanical cipher machines, such as the Enigma machine, are developed. Bletchley Park’s Crack Team Alan Turing and his team cracked the Enigma code combination.</li>\n",
    "<li><em>20th century:</em> The first computers are developed, which lead to a revolution in cryptanalysis. A machine called “Deep Crack” used brute force attack that tried one million DES keys every microsecond and in a few hours tested every possible key and broke the DES algorithm.</li>\n",
    "<li><em>21st century:</em> The development of quantum computers has the potential to break many of the current encryption algorithms.</li>\n",
    "</ul>\n",
    "<a href=\"https://history-computer.com/code-breaking-cryptanalysis-a-complete-history/\">History of the cryptanalysis</a>\n"
   ]
  },
  {
   "cell_type": "markdown",
   "metadata": {},
   "source": [
    "### Approach of the Cryptanalysis\n",
    "Approach in cryptanalysis depends on the what type of information and how much information has been available for the attacker.<br>\n",
    "\n",
    "Generally it is assumed that\n",
    "<ol>\n",
    "<li>Algorithm is known</li>\n",
    "<li>Ciphertexts can be collected</li>\n",
    "<li>Attacker has the motivation and resources even for the brute forcing entire key space.</li>\n",
    "</ol>\n"
   ]
  },
  {
   "cell_type": "markdown",
   "metadata": {},
   "source": [
    "## Fundamentals of Cryptanalysis\n",
    "<strong>Attack models:</strong> These describe the attacker's capabilities and resources. For example, an attacker may be assumed to have unlimited computing power, or they may only be able to observe encrypted messages.<br>\n",
    "<strong>Cryptanalytic techniques:</strong> These are the methods used to break cryptographic systems. There are many different cryptanalytic techniques, including brute force attacks, dictionary attacks, and side channel attacks.<br>\n",
    "<strong>Security evaluation:</strong> This is the process of assessing the security of a cryptographic system. Security evaluation can be done by mathematical analysis, simulation, or testing.\n"
   ]
  },
  {
   "cell_type": "markdown",
   "metadata": {},
   "source": [
    "## Cryptanalytic Techniques\n",
    "<ul>\n",
    "<li>Brute force attack: This is a trial-and-error method of breaking a cryptographic system by trying all possible keys.</li>\n",
    "<li>Dictionary attack: This is a type of brute force attack that uses a list of words or phrases as the possible keys.</li>\n",
    "<li>Side channel attack: This is an attack that exploits information leaked by a cryptographic system, such as power consumption or electromagnetic radiation.</li>\n",
    "</ul>\n",
    "Here are some examples of security evaluations:\n",
    "<ul>\n",
    "<li>Mathematical analysis: This is a method of evaluating the security of a cryptographic system by analyzing its mathematical properties.</li>\n",
    "<li>Simulation: This is a method of evaluating the security of a cryptographic system by simulating its operation.</li>\n",
    "<li>Testing: This is a method of evaluating the security of a cryptographic system by testing it against known attacks.</li>\n",
    "</ul>"
   ]
  },
  {
   "cell_type": "markdown",
   "metadata": {},
   "source": [
    "## What is Applied Cryptanalysis\n",
    "It is practical application of cryptanalysis to break the cryptographis systens.<br>\n"
   ]
  },
  {
   "cell_type": "markdown",
   "metadata": {},
   "source": [
    "### Brute Force Attacks\n",
    "Try all possible combinations of keys or passwords until the correct one is found. This is a very time-consuming process, but it can be successful if the key or password is short or simple. For example, a brute force attack could be used to try to guess a 4-digit PIN code.\n"
   ]
  },
  {
   "cell_type": "markdown",
   "metadata": {},
   "source": [
    "### Cipher Text Only Attack\n",
    "A ciphertext-only attack is an attack on an encrypted message where the attacker only has access to the encrypted message and no other information. This type of attack is often used against symmetric encryption algorithms, which use the same key for both encryption and decryption.<br>\n",
    "<ul>\n",
    "<li>A ciphertext-only attack is an attack on an encrypted message where the attacker only has access to the encrypted message and no other information.</li>\n",
    "<li>Ciphertext-only attacks are often used against symmetric encryption algorithms.</li>\n",
    "<li>There are a number of different ways to perform a ciphertext-only attack.</li>\n",
    "<li>Ciphertext-only attacks can be very difficult to defend against.</li>\n",
    "<li>There are a number of things that can be done to make ciphertext-only attacks more difficult.</li>\n",
    "</ul>"
   ]
  },
  {
   "cell_type": "markdown",
   "metadata": {},
   "source": [
    "### Known Plain Text Attack\n",
    "A known-plaintext attack is a type of cryptanalysis where the attacker has access to both the unencrypted plaintext and the corresponding ciphertext. This allows the attacker to try to decrypt the ciphertext by trying different possible keys."
   ]
  },
  {
   "cell_type": "markdown",
   "metadata": {},
   "source": [
    "### Recap Semantic Security\n",
    "Semantic security is a security property of cryptographic systems that ensures that even if an attacker is able to obtain the encrypted messages, they cannot learn anything about the plaintext messages."
   ]
  },
  {
   "cell_type": "markdown",
   "metadata": {},
   "source": [
    "### Indistinguishability in a Chosen-Plaintext-Attack (IND-CPA)\n",
    "A refinement on semantic security.<br>\n",
    "\n",
    "It goes as follows;\n",
    "<ol>\n",
    "<li>An attacker can submit M1 and M2 for encryption.</li>\n",
    "<li>The attacker does not know the key.</li>\n",
    "<li>He gets back C, which is either Ek(M1) or Ek(M2).</li>\n",
    "<li>He must guess whether C came from M1 or M2</li>\n",
    "</ol>\n",
    "If the attacker cannot do better than guessing with a coin flip, the cipher is said to support IND-CPA.\n"
   ]
  },
  {
   "cell_type": "markdown",
   "metadata": {},
   "source": [
    "### Indistinguishability in a Chosen-Ciphertext-Attack (IND-CCA)\n",
    "A refinement on semantic security.<br>\n",
    "\n",
    "It goes as follows;\n",
    "<ol>\n",
    "<li>An attacker can submit Cn for decryption.</li>\n",
    "<li>The attacker does not know the key.</li>\n",
    "<li>He gets back Pn</li>\n",
    "<li>He tries to determine K from all this info</li>\n",
    "</ol>\n",
    "If the attacker cannot determine K (or any part of K), the cipher is said to support IND-CCA. \n"
   ]
  },
  {
   "cell_type": "markdown",
   "metadata": {},
   "source": [
    "### Differential Cryptanalysis\n",
    "Differential cryptanalysis is a type of cryptanalysis that relies on finding differences in the output of a cryptographic algorithm for two related inputs. The goal of differential cryptanalysis is to find a differential characteristic, which is a set of input differences that always lead to a specific output difference. Once a differential characteristic is found, it can be used to recover the key of the cipher."
   ]
  },
  {
   "cell_type": "markdown",
   "metadata": {},
   "source": [
    "### Linear Cryptanalysis\n",
    "Linear cryptanalysis is a type of cryptanalysis that tries to find the key of a cipher by analyzing the linear relations between the ciphertext and the plaintext. It is a very powerful attack that has been used to break many ciphers, including DES and AES."
   ]
  },
  {
   "cell_type": "markdown",
   "metadata": {},
   "source": [
    "### Side-Channel Attacks\n",
    "Side-channel attacks exploit physical characteristics of a system to extract information, such as timing, power consumption, and electromagnetic emissions. Countermeasures and side-channel-resistant algorithms can be used to defend against them."
   ]
  }
 ],
 "metadata": {
  "kernelspec": {
   "display_name": "base",
   "language": "python",
   "name": "python3"
  },
  "language_info": {
   "codemirror_mode": {
    "name": "ipython",
    "version": 3
   },
   "file_extension": ".py",
   "mimetype": "text/x-python",
   "name": "python",
   "nbconvert_exporter": "python",
   "pygments_lexer": "ipython3",
   "version": "3.11.4"
  },
  "orig_nbformat": 4
 },
 "nbformat": 4,
 "nbformat_minor": 2
}
